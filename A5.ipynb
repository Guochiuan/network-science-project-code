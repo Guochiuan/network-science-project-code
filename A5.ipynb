{
 "cells": [
  {
   "cell_type": "markdown",
   "id": "bfbbb352",
   "metadata": {},
   "source": [
    "# Assignment 5: Network Models and Statistical Analysis"
   ]
  },
  {
   "cell_type": "code",
   "execution_count": 1,
   "id": "cab11e82",
   "metadata": {},
   "outputs": [],
   "source": [
    "import random\n",
    "import itertools\n",
    "\n",
    "import networkx as nx\n",
    "from networkx.algorithms.community import louvain_communities, louvain_partitions\n",
    "import numpy as np\n",
    "import sklearn.metrics\n",
    "\n",
    "\n",
    "import matplotlib.pyplot as plt\n",
    "import seaborn as sns"
   ]
  },
  {
   "cell_type": "markdown",
   "id": "4f0ca12a",
   "metadata": {},
   "source": [
    "# Modeling the NCAA College Football\n"
   ]
  },
  {
   "cell_type": "code",
   "execution_count": 2,
   "id": "ba3dca99",
   "metadata": {},
   "outputs": [],
   "source": [
    "G = nx.read_gml(\"football.gml\")"
   ]
  },
  {
   "cell_type": "markdown",
   "id": "82ba2a07",
   "metadata": {},
   "source": [
    "## Part 1: Structural Properties of the Graph [18 points]"
   ]
  },
  {
   "cell_type": "code",
   "execution_count": 1,
   "id": "1bf23d5c",
   "metadata": {},
   "outputs": [],
   "source": [
    "# 1.1\n",
    "# Print the:\n",
    "# network diameter,\n",
    "# characteristic path length (CPL),\n",
    "# average clustering coefficient,\n",
    "# transitivity, and assortativity. \n"
   ]
  },
  {
   "cell_type": "code",
   "execution_count": 2,
   "id": "800a18cd",
   "metadata": {},
   "outputs": [],
   "source": [
    "# 1.2  Plot the degree distribution using histogram."
   ]
  },
  {
   "cell_type": "code",
   "execution_count": 3,
   "id": "3bf53749",
   "metadata": {},
   "outputs": [],
   "source": [
    "# 1.3 Find the resolution parameter that leads to highest NMI."
   ]
  },
  {
   "cell_type": "code",
   "execution_count": 4,
   "id": "1de98015",
   "metadata": {},
   "outputs": [],
   "source": [
    "# Visualize the ground truth with the best louvain partition"
   ]
  },
  {
   "cell_type": "code",
   "execution_count": 5,
   "id": "5bbf5e8d",
   "metadata": {},
   "outputs": [],
   "source": [
    "# 1.4 Plot the inter-community connection density as heatmap."
   ]
  },
  {
   "cell_type": "markdown",
   "id": "9bb48360",
   "metadata": {},
   "source": [
    "## Part 2: Graph Generation [32 points]\n",
    "### Configuration Model [8 points]"
   ]
  },
  {
   "cell_type": "code",
   "execution_count": null,
   "id": "47c91287",
   "metadata": {},
   "outputs": [],
   "source": [
    "# Generate Graphs"
   ]
  },
  {
   "cell_type": "code",
   "execution_count": null,
   "id": "ec87c0d8",
   "metadata": {},
   "outputs": [],
   "source": [
    "# Plot (Histogram /Boxplot):\n",
    "# network diameter,\n",
    "# CPL,\n",
    "# average clustering coefficient,\n",
    "# transitivity,\n",
    "# assortativity. "
   ]
  },
  {
   "cell_type": "markdown",
   "id": "6b6503c2",
   "metadata": {},
   "source": [
    "### Stochastic Block Model [9 points] "
   ]
  },
  {
   "cell_type": "code",
   "execution_count": null,
   "id": "0696e656",
   "metadata": {},
   "outputs": [],
   "source": [
    "# Generate Graphs "
   ]
  },
  {
   "cell_type": "code",
   "execution_count": null,
   "id": "74ba812b",
   "metadata": {},
   "outputs": [],
   "source": [
    "# Plot (Histogram /Boxplot):\n",
    "# network diameter,\n",
    "# CPL,\n",
    "# average clustering coefficient,\n",
    "# transitivity,\n",
    "# assortativity."
   ]
  },
  {
   "cell_type": "markdown",
   "id": "39865798",
   "metadata": {},
   "source": [
    "### Hierarchical Random Graphs [15 points]"
   ]
  },
  {
   "cell_type": "code",
   "execution_count": null,
   "id": "d05389c9",
   "metadata": {},
   "outputs": [],
   "source": [
    "dendrogram = nx.read_gml(\"football-hrg.gml\")"
   ]
  },
  {
   "cell_type": "code",
   "execution_count": null,
   "id": "a67a3766",
   "metadata": {},
   "outputs": [],
   "source": [
    "# Generate Graphs"
   ]
  },
  {
   "cell_type": "code",
   "execution_count": null,
   "id": "1c1a8a84",
   "metadata": {},
   "outputs": [],
   "source": [
    "# Plot (Histogram /Boxplot):\n",
    "# network diameter,\n",
    "# CPL,\n",
    "# average clustering coefficient,\n",
    "# transitivity,\n",
    "# assortativity. "
   ]
  },
  {
   "cell_type": "markdown",
   "id": "b35482a6",
   "metadata": {},
   "source": [
    "## Part 3: Finding the Best Fit [15 points]"
   ]
  },
  {
   "cell_type": "code",
   "execution_count": 7,
   "id": "21f1e08f",
   "metadata": {},
   "outputs": [],
   "source": [
    "# 3.1\n",
    "# Print the average value and standard deviation for:\n",
    "# the diameter,\n",
    "# CPL,\n",
    "# average clustering coefficient,\n",
    "# transitivity,\n",
    "# assortativity \n",
    "\n",
    "# Configuration Model Comparison\n",
    "# Stochastic Block Model Graphs\n",
    "# Hierarchical Random Graphs"
   ]
  },
  {
   "cell_type": "code",
   "execution_count": null,
   "id": "0439d70e",
   "metadata": {},
   "outputs": [],
   "source": [
    "# 3.2\n",
    "# Print the following\n",
    "# P-Values for diameter,\n",
    "# CPL,\n",
    "# average clustering coefficient,\n",
    "# transitivity,\n",
    "# assortativity \n",
    "\n",
    "# Configuration Model Comparison\n",
    "# Stochastic Block Model Graphs\n",
    "# Hierarchical Random Graphs"
   ]
  },
  {
   "cell_type": "markdown",
   "id": "7093329b",
   "metadata": {},
   "source": [
    "3.3\n",
    "Which model do you think best approximates the empirical network? Explain your answer. "
   ]
  },
  {
   "cell_type": "markdown",
   "id": "d59e2f7d",
   "metadata": {},
   "source": [
    "# Slashdot Network"
   ]
  },
  {
   "cell_type": "code",
   "execution_count": null,
   "id": "86e68100",
   "metadata": {},
   "outputs": [],
   "source": [
    "# import \"slashdot.txt\"\n",
    "G = nx.read_edgelist(\"slashdot.txt\", delimiter=\"\\t\", create_using=nx.DiGraph)\n",
    "G.remove_edges_from(nx.selfloop_edges(G))"
   ]
  },
  {
   "cell_type": "markdown",
   "id": "1503c8b3",
   "metadata": {},
   "source": [
    "## Part 4: Slashdot Network [35 Points ]"
   ]
  },
  {
   "cell_type": "markdown",
   "id": "0d718e10",
   "metadata": {},
   "source": [
    "### Capture Recapture Method\n"
   ]
  },
  {
   "cell_type": "markdown",
   "id": "1ea4bd94",
   "metadata": {},
   "source": [
    "### Induced Subgraph Sampling\n"
   ]
  }
 ],
 "metadata": {
  "kernelspec": {
   "display_name": "Python 3 (ipykernel)",
   "language": "python",
   "name": "python3"
  },
  "language_info": {
   "codemirror_mode": {
    "name": "ipython",
    "version": 3
   },
   "file_extension": ".py",
   "mimetype": "text/x-python",
   "name": "python",
   "nbconvert_exporter": "python",
   "pygments_lexer": "ipython3",
   "version": "3.9.16"
  }
 },
 "nbformat": 4,
 "nbformat_minor": 5
}

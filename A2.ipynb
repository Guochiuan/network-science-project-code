{
 "cells": [
  {
   "cell_type": "markdown",
   "id": "65887106",
   "metadata": {},
   "source": [
    "# Assignment 2: Degree Distributions and Network Topology"
   ]
  },
  {
   "cell_type": "code",
   "execution_count": 7,
   "id": "688fb58a",
   "metadata": {},
   "outputs": [],
   "source": [
    "import collections\n",
    "import networkx as nx\n",
    "import matplotlib.pyplot as plt\n",
    "import numpy as np\n",
    "import scipy.stats\n",
    "\n",
    "from powerlaw import *"
   ]
  },
  {
   "cell_type": "markdown",
   "id": "a07edb63",
   "metadata": {},
   "source": [
    "## Part 1  - Random Graphs and Correlations"
   ]
  },
  {
   "cell_type": "markdown",
   "id": "b08c059d",
   "metadata": {},
   "source": [
    "### 1.1"
   ]
  },
  {
   "cell_type": "markdown",
   "id": "0ca820e9",
   "metadata": {},
   "source": [
    "### 1.2 "
   ]
  },
  {
   "cell_type": "markdown",
   "id": "34004511",
   "metadata": {},
   "source": [
    "## Part 2 - Power-Law Distributions"
   ]
  },
  {
   "cell_type": "markdown",
   "id": "6b9bcca0",
   "metadata": {},
   "source": [
    "### 2.1"
   ]
  },
  {
   "cell_type": "code",
   "execution_count": 8,
   "id": "76795efc",
   "metadata": {},
   "outputs": [],
   "source": [
    "# Plot the out-degree distribution"
   ]
  },
  {
   "cell_type": "code",
   "execution_count": 1,
   "id": "066b212c",
   "metadata": {},
   "outputs": [],
   "source": [
    "# Plot the in-degree distribution"
   ]
  },
  {
   "cell_type": "markdown",
   "id": "a3ef8e27",
   "metadata": {},
   "source": [
    "### 2.2"
   ]
  },
  {
   "cell_type": "code",
   "execution_count": 2,
   "id": "06c73fb7",
   "metadata": {},
   "outputs": [],
   "source": [
    "#fit the out-degree distributon without xmax"
   ]
  },
  {
   "cell_type": "code",
   "execution_count": 3,
   "id": "1182c6ec",
   "metadata": {},
   "outputs": [],
   "source": [
    "#fit the out-degree distributon with xmax = 200"
   ]
  },
  {
   "cell_type": "code",
   "execution_count": 4,
   "id": "00140fbb",
   "metadata": {},
   "outputs": [],
   "source": [
    "# Fit the in-degree distributon without xmax"
   ]
  },
  {
   "cell_type": "code",
   "execution_count": 6,
   "id": "93bfb0ee",
   "metadata": {},
   "outputs": [],
   "source": [
    "# Fit the in-degree distributon with xmax = 300"
   ]
  },
  {
   "cell_type": "markdown",
   "id": "d30a3428",
   "metadata": {},
   "source": [
    "## Part 3 - The Small-World Property"
   ]
  },
  {
   "cell_type": "markdown",
   "id": "3a80735d",
   "metadata": {},
   "source": [
    "### Clustering Coefficient and Transitivity \n",
    "### 3.1"
   ]
  },
  {
   "cell_type": "markdown",
   "id": "c3644d73",
   "metadata": {},
   "source": [
    "### 3.2"
   ]
  },
  {
   "cell_type": "markdown",
   "id": "00d91edd",
   "metadata": {},
   "source": [
    "### 3.3"
   ]
  },
  {
   "cell_type": "markdown",
   "id": "667ffae3",
   "metadata": {},
   "source": [
    "### 3.4"
   ]
  },
  {
   "cell_type": "markdown",
   "id": "73b4b448",
   "metadata": {},
   "source": [
    "### 3.5"
   ]
  },
  {
   "cell_type": "markdown",
   "id": "dc988229",
   "metadata": {},
   "source": [
    "### CPL/ASPL and Diameter\n",
    "### 3.6 "
   ]
  },
  {
   "cell_type": "markdown",
   "id": "dc98502d",
   "metadata": {},
   "source": [
    "### 3.7"
   ]
  },
  {
   "cell_type": "markdown",
   "id": "cd39b6bc",
   "metadata": {},
   "source": [
    "### Small World Property \n",
    "### 3.8\n",
    "Based on your findings in 3.1-3.7, can you conclude that G0 is a small-world network? Explain which metrics you used and how they support your conclusion. \n"
   ]
  },
  {
   "cell_type": "markdown",
   "id": "761e8e52",
   "metadata": {},
   "source": [
    "## Part 4 - Motifs "
   ]
  },
  {
   "cell_type": "markdown",
   "id": "b028a828",
   "metadata": {},
   "source": [
    "### 4.1"
   ]
  },
  {
   "cell_type": "markdown",
   "id": "72b67612",
   "metadata": {},
   "source": [
    "### 4.2"
   ]
  },
  {
   "cell_type": "markdown",
   "id": "bfc6fa62",
   "metadata": {},
   "source": [
    "Which of the previous triplet types are statistically more common (or less common) in the emperical compared to what we would expect based on chance?"
   ]
  },
  {
   "cell_type": "markdown",
   "id": "82751aa4",
   "metadata": {},
   "source": [
    "## Part 5 - Transitivity and the Average Clustering Coefficient"
   ]
  }
 ],
 "metadata": {
  "kernelspec": {
   "display_name": "Python 3 (ipykernel)",
   "language": "python",
   "name": "python3"
  },
  "language_info": {
   "codemirror_mode": {
    "name": "ipython",
    "version": 3
   },
   "file_extension": ".py",
   "mimetype": "text/x-python",
   "name": "python",
   "nbconvert_exporter": "python",
   "pygments_lexer": "ipython3",
   "version": "3.9.13"
  }
 },
 "nbformat": 4,
 "nbformat_minor": 5
}
